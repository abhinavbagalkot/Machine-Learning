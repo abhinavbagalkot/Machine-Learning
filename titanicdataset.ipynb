{
  "nbformat": 4,
  "nbformat_minor": 0,
  "metadata": {
    "colab": {
      "provenance": [],
      "authorship_tag": "ABX9TyO85Chc0hXdmMapnXS63n7R",
      "include_colab_link": true
    },
    "kernelspec": {
      "name": "python3",
      "display_name": "Python 3"
    },
    "language_info": {
      "name": "python"
    }
  },
  "cells": [
    {
      "cell_type": "markdown",
      "metadata": {
        "id": "view-in-github",
        "colab_type": "text"
      },
      "source": [
        "<a href=\"https://colab.research.google.com/github/abhinavbagalkot/Machine-Learning/blob/main/titanicdataset.ipynb\" target=\"_parent\"><img src=\"https://colab.research.google.com/assets/colab-badge.svg\" alt=\"Open In Colab\"/></a>"
      ]
    },
    {
      "cell_type": "code",
      "execution_count": 57,
      "metadata": {
        "id": "_iiCSXW3CJ7s"
      },
      "outputs": [],
      "source": [
        "import pandas as pd\n",
        "titanictrain=\"/content/train.csv\"\n",
        "titanic_train=pd.read_csv(titanictrain)\n",
        "titanic_train=titanic_train.dropna(axis=0)\n",
        "titanictest=\"/content/test.csv\"\n",
        "titanic_test=pd.read_csv(titanictest)\n",
        "titanic_test=titanic_test.dropna(axis=0)\n",
        "#model trained on training dataset"
      ]
    },
    {
      "cell_type": "code",
      "source": [
        "test_columns=titanic_test.columns\n",
        "print(test_columns)\n",
        "train_columns=titanic_train.columns\n",
        "print(train_columns)"
      ],
      "metadata": {
        "colab": {
          "base_uri": "https://localhost:8080/"
        },
        "id": "VJwxoxzyIQEO",
        "outputId": "10a140d2-879b-4c10-b2ce-e4d400793520"
      },
      "execution_count": 58,
      "outputs": [
        {
          "output_type": "stream",
          "name": "stdout",
          "text": [
            "Index(['PassengerId', 'Pclass', 'Name', 'Sex', 'Age', 'SibSp', 'Parch',\n",
            "       'Ticket', 'Fare', 'Cabin', 'Embarked'],\n",
            "      dtype='object')\n",
            "Index(['PassengerId', 'Survived', 'Pclass', 'Name', 'Sex', 'Age', 'SibSp',\n",
            "       'Parch', 'Ticket', 'Fare', 'Cabin', 'Embarked'],\n",
            "      dtype='object')\n"
          ]
        }
      ]
    },
    {
      "cell_type": "code",
      "source": [
        "titanic_features=[\"Pclass\",\"Age\",\"SibSp\",\"Parch\"]\n",
        "X=titanic_train[titanic_features]\n",
        "y=titanic_train.Survived"
      ],
      "metadata": {
        "id": "3354LYHdJRCq"
      },
      "execution_count": 79,
      "outputs": []
    },
    {
      "cell_type": "code",
      "source": [
        "from sklearn.tree import DecisionTreeRegressor\n",
        "titanic_model=DecisionTreeRegressor()\n",
        "titanic_model.fit(X,y)"
      ],
      "metadata": {
        "colab": {
          "base_uri": "https://localhost:8080/"
        },
        "id": "tTtWUyQNIiKX",
        "outputId": "a542b5db-ee0b-4181-ee43-192f2be4a0b7"
      },
      "execution_count": 80,
      "outputs": [
        {
          "output_type": "execute_result",
          "data": {
            "text/plain": [
              "DecisionTreeRegressor()"
            ]
          },
          "metadata": {},
          "execution_count": 80
        }
      ]
    },
    {
      "cell_type": "code",
      "source": [
        "X1=titanic_test[titanic_features]\n",
        "print(X1)\n",
        "print(list(titanic_model.predict(X1)))"
      ],
      "metadata": {
        "colab": {
          "base_uri": "https://localhost:8080/"
        },
        "id": "sD6CKgZGCYHK",
        "outputId": "aba0f135-0043-4123-fb05-1464350885fa"
      },
      "execution_count": 81,
      "outputs": [
        {
          "output_type": "stream",
          "name": "stdout",
          "text": [
            "     Pclass   Age  SibSp  Parch\n",
            "12        1  23.0      1      0\n",
            "14        1  47.0      1      0\n",
            "24        1  48.0      1      3\n",
            "26        1  22.0      0      1\n",
            "28        1  41.0      0      0\n",
            "..      ...   ...    ...    ...\n",
            "404       1  43.0      1      0\n",
            "405       2  20.0      0      0\n",
            "407       1  50.0      1      1\n",
            "411       1  37.0      1      0\n",
            "414       1  39.0      0      0\n",
            "\n",
            "[87 rows x 4 columns]\n",
            "[1.0, 0.0, 0.0, 1.0, 1.0, 0.75, 0.0, 0.0, 0.6666666666666666, 0.8, 1.0, 0.0, 0.75, 1.0, 0.0, 1.0, 1.0, 1.0, 1.0, 1.0, 1.0, 0.0, 1.0, 1.0, 1.0, 0.75, 1.0, 0.0, 0.75, 1.0, 1.0, 0.0, 1.0, 0.5, 1.0, 1.0, 1.0, 1.0, 0.0, 1.0, 0.5, 0.0, 1.0, 0.0, 0.5, 1.0, 1.0, 1.0, 1.0, 1.0, 1.0, 1.0, 1.0, 1.0, 0.0, 1.0, 0.8, 0.5, 0.0, 1.0, 0.5, 0.0, 1.0, 0.0, 1.0, 1.0, 0.0, 0.75, 1.0, 1.0, 0.0, 1.0, 1.0, 0.0, 1.0, 0.5, 0.0, 1.0, 1.0, 0.5, 0.0, 0.75, 1.0, 1.0, 1.0, 0.0, 0.0]\n"
          ]
        }
      ]
    },
    {
      "cell_type": "code",
      "source": [
        "import matplotlib.pyplot as plt\n",
        "import pandas as pd"
      ],
      "metadata": {
        "id": "THGTg1Fl4R5n"
      },
      "execution_count": 60,
      "outputs": []
    },
    {
      "cell_type": "code",
      "source": [
        "titanic_train.head()"
      ],
      "metadata": {
        "id": "JF9yhOBa5HUd"
      },
      "execution_count": null,
      "outputs": []
    },
    {
      "cell_type": "code",
      "source": [
        "titanic_train.shape\n",
        "titanic_train['Survived'].value_counts()"
      ],
      "metadata": {
        "colab": {
          "base_uri": "https://localhost:8080/"
        },
        "id": "tTvf8Yx25YG1",
        "outputId": "2b0e0114-d799-4bec-aba3-c8029284d7a3"
      },
      "execution_count": 26,
      "outputs": [
        {
          "output_type": "execute_result",
          "data": {
            "text/plain": [
              "0    549\n",
              "1    342\n",
              "Name: Survived, dtype: int64"
            ]
          },
          "metadata": {},
          "execution_count": 26
        }
      ]
    },
    {
      "cell_type": "code",
      "source": [
        "sur=titanic_train['Survived'].value_counts().keys()\n",
        "surval=titanic_train['Survived'].value_counts()\n",
        "plt.bar(list(sur),list(surval),color=['r','g'])\n",
        "plt.show()"
      ],
      "metadata": {
        "colab": {
          "base_uri": "https://localhost:8080/",
          "height": 265
        },
        "id": "atuQMB0v6mAv",
        "outputId": "c524e33b-39a0-49cb-aefe-4d2d9b73310e"
      },
      "execution_count": 35,
      "outputs": [
        {
          "output_type": "display_data",
          "data": {
            "text/plain": [
              "<Figure size 432x288 with 1 Axes>"
            ],
            "image/png": "[encoded data removed]"
          },
          "metadata": {
            "needs_background": "light"
          }
        }
      ]
    },
    {
      "cell_type": "code",
      "source": [
        "cla=titanic_train['Pclass'].value_counts().keys()\n",
        "claval=titanic_train['Pclass'].value_counts()\n",
        "print(claval)\n",
        "plt.bar(list(cla),list(claval),color=['red','green','blue'])\n",
        "plt.show()"
      ],
      "metadata": {
        "colab": {
          "base_uri": "https://localhost:8080/",
          "height": 338
        },
        "id": "StKrJnTe765z",
        "outputId": "f8b7e9cf-454b-4496-8a75-f55fd34f7904"
      },
      "execution_count": 40,
      "outputs": [
        {
          "output_type": "stream",
          "name": "stdout",
          "text": [
            "3    491\n",
            "1    216\n",
            "2    184\n",
            "Name: Pclass, dtype: int64\n"
          ]
        },
        {
          "output_type": "display_data",
          "data": {
            "text/plain": [
              "<Figure size 432x288 with 1 Axes>"
            ],
            "image/png": "[encoded data removed]"
          },
          "metadata": {
            "needs_background": "light"
          }
        }
      ]
    },
    {
      "cell_type": "code",
      "source": [
        "sex=titanic_train['Sex'].value_counts().keys()\n",
        "sexval=titanic_train['Sex'].value_counts()\n",
        "print(sexval)\n",
        "plt.bar(list(sex),list(sexval),color=['blue','pink'])\n",
        "plt.show()"
      ],
      "metadata": {
        "colab": {
          "base_uri": "https://localhost:8080/",
          "height": 321
        },
        "id": "gv5R0nCc8hU7",
        "outputId": "b64224e9-b06c-4f05-e3c8-72b0d7206c5f"
      },
      "execution_count": 42,
      "outputs": [
        {
          "output_type": "stream",
          "name": "stdout",
          "text": [
            "male      577\n",
            "female    314\n",
            "Name: Sex, dtype: int64\n"
          ]
        },
        {
          "output_type": "display_data",
          "data": {
            "text/plain": [
              "<Figure size 432x288 with 1 Axes>"
            ],
            "image/png": "[encoded data removed]"
          },
          "metadata": {
            "needs_background": "light"
          }
        }
      ]
    },
    {
      "cell_type": "code",
      "source": [
        "age=titanic_train['Age'].value_counts().keys()\n",
        "ageval=titanic_train['Age'].value_counts()\n",
        "plt.figure(figsize=(5,5))\n",
        "plt.hist(titanic_train['Age'])\n",
        "plt.show()"
      ],
      "metadata": {
        "colab": {
          "base_uri": "https://localhost:8080/",
          "height": 320
        },
        "id": "RKPAJ_ru9uiQ",
        "outputId": "f5ce2842-1bd1-43eb-b8a9-393349a228fb"
      },
      "execution_count": 56,
      "outputs": [
        {
          "output_type": "display_data",
          "data": {
            "text/plain": [
              "<Figure size 360x360 with 1 Axes>"
            ],
            "image/png": "[encoded data removed]"
          },
          "metadata": {
            "needs_background": "light"
          }
        }
      ]
    },
    {
      "cell_type": "code",
      "source": [
        "#Classifier"
      ],
      "metadata": {
        "id": "IB4ZQdZOE1p_"
      },
      "execution_count": null,
      "outputs": []
    },
    {
      "cell_type": "code",
      "source": [
        "from sklearn.tree import DecisionTreeClassifier\n",
        "titanic_features=[\"Pclass\",\"Age\",\"SibSp\",\"Parch\"]\n",
        "X=titanic_train[titanic_features]\n",
        "y=titanic_train.Survived\n",
        "titanic_model1=DecisionTreeClassifier()\n",
        "titanic_model1.fit(X,y)"
      ],
      "metadata": {
        "colab": {
          "base_uri": "https://localhost:8080/"
        },
        "id": "7BuDeFqz_mTH",
        "outputId": "a16af9a2-b49a-488d-d420-b4fcc5964550"
      },
      "execution_count": 100,
      "outputs": [
        {
          "output_type": "execute_result",
          "data": {
            "text/plain": [
              "DecisionTreeClassifier()"
            ]
          },
          "metadata": {},
          "execution_count": 100
        }
      ]
    },
    {
      "cell_type": "code",
      "source": [
        "X1=titanic_test[titanic_features]\n",
        "pred1=titanic_model1.predict(X1)\n",
        "print(pred1)\n",
        "#based on test dataset, the model has predicted values for survival"
      ],
      "metadata": {
        "colab": {
          "base_uri": "https://localhost:8080/"
        },
        "id": "lhV37LdNBeaD",
        "outputId": "3a4c3f19-2e28-43ac-8d43-b5049ba937cb"
      },
      "execution_count": 101,
      "outputs": [
        {
          "output_type": "stream",
          "name": "stdout",
          "text": [
            "[1 0 0 1 1 1 0 0 1 1 0 0 1 1 0 1 1 1 1 1 0 0 1 1 1 1 1 0 1 1 1 1 1 0 1 1 1\n",
            " 1 0 1 0 0 1 0 0 1 1 1 1 0 1 1 1 1 0 1 1 0 0 1 0 0 1 0 1 1 0 1 1 1 0 1 1 0\n",
            " 1 0 0 1 1 0 0 1 1 1 1 0 0]\n"
          ]
        }
      ]
    },
    {
      "cell_type": "code",
      "source": [
        "#Regressor"
      ],
      "metadata": {
        "id": "zxat-ibEE0rg"
      },
      "execution_count": null,
      "outputs": []
    },
    {
      "cell_type": "code",
      "source": [
        "from sklearn.tree import DecisionTreeRegressor\n",
        "titanic_features=[\"Pclass\",\"Age\",\"SibSp\",\"Parch\"]\n",
        "X=titanic_train[titanic_features]\n",
        "y=titanic_train.Survived\n",
        "titanic_model2=DecisionTreeRegressor()\n",
        "titanic_model2.fit(X,y)"
      ],
      "metadata": {
        "colab": {
          "base_uri": "https://localhost:8080/"
        },
        "id": "KY_gTXcyCwQc",
        "outputId": "a9c60549-415c-4671-e10d-40274f6aabfc"
      },
      "execution_count": 102,
      "outputs": [
        {
          "output_type": "execute_result",
          "data": {
            "text/plain": [
              "DecisionTreeRegressor()"
            ]
          },
          "metadata": {},
          "execution_count": 102
        }
      ]
    },
    {
      "cell_type": "code",
      "source": [
        "X2=titanic_test[titanic_features]\n",
        "pred2=titanic_model2.predict(X2)\n",
        "print(pred2)\n",
        "#based on test dataset, the model has predicted values for survival"
      ],
      "metadata": {
        "colab": {
          "base_uri": "https://localhost:8080/"
        },
        "id": "bZ_UX_gGC3fg",
        "outputId": "497bfd10-7fba-4cfc-c032-52698d86f2e9"
      },
      "execution_count": 104,
      "outputs": [
        {
          "output_type": "stream",
          "name": "stdout",
          "text": [
            "[1.         0.         0.         1.         1.         0.75\n",
            " 0.         0.         0.66666667 0.8        1.         0.\n",
            " 0.75       1.         0.         1.         1.         1.\n",
            " 1.         1.         0.         0.         1.         1.\n",
            " 1.         0.75       1.         0.         0.75       1.\n",
            " 1.         1.         1.         0.5        1.         1.\n",
            " 1.         0.         0.         1.         0.5        0.\n",
            " 1.         0.         0.5        1.         1.         1.\n",
            " 1.         0.         1.         1.         1.         1.\n",
            " 0.         1.         0.8        0.5        0.         1.\n",
            " 0.5        0.         1.         0.         1.         1.\n",
            " 0.         0.75       1.         1.         0.         1.\n",
            " 1.         0.         1.         0.5        0.         1.\n",
            " 1.         0.5        0.         0.75       1.         1.\n",
            " 1.         0.         0.        ]\n"
          ]
        }
      ]
    },
    {
      "cell_type": "code",
      "source": [
        "from sklearn.tree import DecisionTreeClassifier\n",
        "titanic_features=[\"Pclass\",\"Age\",\"SibSp\",\"Parch\"]\n",
        "X=titanic_train[titanic_features]\n",
        "y=titanic_train.Survived\n",
        "titanic_model=DecisionTreeClassifier()\n",
        "titanic_model.fit(X,y)"
      ],
      "metadata": {
        "colab": {
          "base_uri": "https://localhost:8080/"
        },
        "id": "znuEpfkGFbc2",
        "outputId": "249d32c7-c5ad-4ad0-b2f6-79713718c973"
      },
      "execution_count": 109,
      "outputs": [
        {
          "output_type": "execute_result",
          "data": {
            "text/plain": [
              "DecisionTreeClassifier()"
            ]
          },
          "metadata": {},
          "execution_count": 109
        }
      ]
    },
    {
      "cell_type": "code",
      "source": [
        "pr1=titanic_model.predict(X)\n",
        "print(pr1)\n",
        "print(y.value_counts())"
      ],
      "metadata": {
        "colab": {
          "base_uri": "https://localhost:8080/"
        },
        "id": "9egLbFWuFkce",
        "outputId": "69fbe50c-fc1c-432d-c4a5-f5b69c68f631"
      },
      "execution_count": 123,
      "outputs": [
        {
          "output_type": "stream",
          "name": "stdout",
          "text": [
            "[1 1 0 1 1 1 1 0 1 0 0 1 0 1 0 0 1 0 0 0 1 0 1 0 1 0 1 0 0 0 1 1 1 1 0 1 1\n",
            " 1 1 1 0 1 0 0 1 0 1 1 1 0 1 0 0 0 1 1 1 1 1 1 1 1 1 0 1 0 0 0 1 0 1 1 1 1\n",
            " 1 1 1 0 1 1 1 1 1 1 0 1 0 1 1 1 1 0 1 0 1 1 1 1 0 1 0 1 0 1 0 1 1 1 0 1 1\n",
            " 0 1 1 1 1 1 1 1 1 1 1 1 1 1 1 1 0 1 1 1 1 1 0 0 0 1 1 1 1 1 0 0 0 1 1 1 1\n",
            " 0 1 1 1 0 1 0 1 0 0 1 0 1 1 0 1 1 0 0 1 1 0 1 0 1 1 1 1 1 0 1 0 1 1 1]\n",
            "1    123\n",
            "0     60\n",
            "Name: Survived, dtype: int64\n"
          ]
        }
      ]
    },
    {
      "cell_type": "code",
      "source": [
        "from sklearn.metrics import mean_absolute_error\n",
        "mean_absolute_error(y,pr1)"
      ],
      "metadata": {
        "colab": {
          "base_uri": "https://localhost:8080/"
        },
        "id": "neepNSYbGEv4",
        "outputId": "23dcb1ed-1a9b-4a57-b94d-84e19f518d32"
      },
      "execution_count": 124,
      "outputs": [
        {
          "output_type": "execute_result",
          "data": {
            "text/plain": [
              "0.07103825136612021"
            ]
          },
          "metadata": {},
          "execution_count": 124
        }
      ]
    }
  ]
}