{
  "nbformat": 4,
  "nbformat_minor": 0,
  "metadata": {
    "colab": {
      "provenance": [],
      "authorship_tag": "ABX9TyOxp2b5nxAFttuJbDoxbskQ",
      "include_colab_link": true
    },
    "kernelspec": {
      "name": "python3",
      "display_name": "Python 3"
    },
    "language_info": {
      "name": "python"
    }
  },
  "cells": [
    {
      "cell_type": "markdown",
      "metadata": {
        "id": "view-in-github",
        "colab_type": "text"
      },
      "source": [
        "<a href=\"https://colab.research.google.com/github/abhinavbagalkot/Machine-Learning/blob/main/housemodel.ipynb\" target=\"_parent\"><img src=\"https://colab.research.google.com/assets/colab-badge.svg\" alt=\"Open In Colab\"/></a>"
      ]
    },
    {
      "cell_type": "code",
      "source": [
        "import pandas as pd \n",
        "melbhouse=\"/content/melb_data.csv\" #store file path \n",
        "melbhousedata=pd.read_csv(melbhouse) #to read data in csv using panda \n",
        "melbhousedata.describe() #to print details of data"
      ],
      "metadata": {
        "id": "jW9ZTNzVQLBM"
      },
      "execution_count": null,
      "outputs": []
    },
    {
      "cell_type": "code",
      "source": [
        "melb=[\"Rooms\",\"Price\",\"Distance\"]\n",
        "x=melbhousedata[melb]\n",
        "x.describe()  "
      ],
      "metadata": {
        "id": "UxSSWMGoUEwJ"
      },
      "execution_count": null,
      "outputs": []
    },
    {
      "cell_type": "code",
      "source": [
        "k=melbhousedata.columns\n",
        "print(k)\n",
        "melbhousedata=melbhousedata.dropna(axis=0)"
      ],
      "metadata": {
        "id": "CgAHuxpKhZJo"
      },
      "execution_count": null,
      "outputs": []
    },
    {
      "cell_type": "code",
      "source": [
        "y=melbhousedata.Price\n",
        "features=[\"Rooms\",\"Bathroom\",\"Landsize\",\"BuildingArea\"]\n",
        "X=melbhousedata[features]\n",
        "print(X,'\\n')\n",
        "print(X.head())"
      ],
      "metadata": {
        "id": "H7SlCidvitiQ"
      },
      "execution_count": null,
      "outputs": []
    },
    {
      "cell_type": "code",
      "source": [
        "from sklearn.tree import DecisionTreeRegressor as DTR\n",
        "melbmodel=DTR()\n",
        "melbmodel.fit(X,y)"
      ],
      "metadata": {
        "id": "8j_DMBZNkcb_"
      },
      "execution_count": null,
      "outputs": []
    },
    {
      "cell_type": "code",
      "source": [
        "info=X.head()\n",
        "print(info)\n",
        "print(melbmodel.predict(X.head()))"
      ],
      "metadata": {
        "id": "3pS8ciKklQKR"
      },
      "execution_count": null,
      "outputs": []
    },
    {
      "cell_type": "code",
      "source": [
        "from sklearn.metrics import mean_absolute_error\n",
        "prediction=melbmodel.predict(X)\n",
        "print(prediction)\n",
        "mean_absolute_error(y,prediction)"
      ],
      "metadata": {
        "colab": {
          "base_uri": "https://localhost:8080/"
        },
        "id": "3UgOqTPqspQ4",
        "outputId": "9f26b628-aa58-478f-f822-56b914e4d1d2"
      },
      "execution_count": null,
      "outputs": [
        {
          "output_type": "stream",
          "name": "stdout",
          "text": [
            "[1035000. 1465000. 1600000. ...  385000.  560000. 2450000.]\n"
          ]
        },
        {
          "output_type": "execute_result",
          "data": {
            "text/plain": [
              "15819.93564512997"
            ]
          },
          "metadata": {},
          "execution_count": 45
        }
      ]
    },
    {
      "cell_type": "code",
      "source": [
        "from sklearn.model_selection import train_test_split\n",
        "trainx,valx,trainy,valy=train_test_split(X,y,random_state=0)\n",
        "melbtrmodel=DTR()\n",
        "melbtrmodel.fit(trainx,trainy)\n",
        "predict=melbtrmodel.predict(valx)\n",
        "print(valy,'\\n')\n",
        "print(predict,'\\n')\n",
        "mean_absolute_error(valy,predict)"
      ],
      "metadata": {
        "id": "jRGjyVBjt39D"
      },
      "execution_count": null,
      "outputs": []
    }
  ]
}